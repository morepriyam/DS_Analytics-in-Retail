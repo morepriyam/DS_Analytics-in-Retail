{
 "cells": [
  {
   "cell_type": "markdown",
   "id": "2c380ca0-68ff-4054-ab30-811f8d2e32c7",
   "metadata": {
    "tags": []
   },
   "source": [
    "## CASE STUDY"
   ]
  },
  {
   "cell_type": "markdown",
   "id": "ad5eb13a-8f59-40b7-8817-a84f43ac6fd5",
   "metadata": {
    "tags": []
   },
   "source": [
    "# 1. Merge the datasets\n"
   ]
  },
  {
   "cell_type": "code",
   "execution_count": 1,
   "id": "305f6e01-923a-421a-909e-92b4cd4873ad",
   "metadata": {},
   "outputs": [],
   "source": [
    "import numpy as np\n",
    "import pandas as pd\n",
    "import seaborn as sns\n",
    "import matplotlib.pyplot as plt"
   ]
  },
  {
   "cell_type": "code",
   "execution_count": 2,
   "id": "e259fa46-929a-435d-b78f-62cf16073aa3",
   "metadata": {},
   "outputs": [],
   "source": [
    "cust = pd.read_csv('/Users/priyam/Documents/Assignments/DS_Analytics-in-Retail/Customer.csv')              #importing thr datasets\n",
    "trans = pd.read_csv('/Users/priyam/Documents/Assignments/DS_Analytics-in-Retail/Transactions.csv')\n",
    "prod_cat = pd.read_csv('/Users/priyam/Documents/Assignments/DS_Analytics-in-Retail/prod_cat_info.csv')"
   ]
  },
  {
   "cell_type": "code",
   "execution_count": 3,
   "id": "cc646301-72a9-4ab7-9854-6fc867c4a06a",
   "metadata": {},
   "outputs": [],
   "source": [
    "#cust.head()              #understanding the data\n",
    "#trans.head()\n",
    "#prod_cat.head()\n",
    "#cust.describe()\n",
    "#trans.describe()\n",
    "\n",
    "#trans.duplicated(subset=['transaction_id']) #some insights "
   ]
  },
  {
   "cell_type": "code",
   "execution_count": 4,
   "id": "d28b4082-6a7e-4142-b111-d4436d00af9c",
   "metadata": {},
   "outputs": [],
   "source": [
    "#print (trans.columns)\n",
    "#print(cust.columns)\n",
    "#print(prod_cat.columns)\n",
    "\n",
    "cust.rename(columns = {'customer_Id' : 'cust_id'} , inplace = True)                               #fixing column names to make joins\n",
    "prod_cat.rename(columns = {'prod_sub_cat_code' : 'prod_subcat_code'} , inplace = True)\n",
    "\n",
    "#cust.head(2)\n",
    "#prod_cat.head(2)"
   ]
  },
  {
   "cell_type": "code",
   "execution_count": 5,
   "id": "b629fed7-6050-477f-bdb6-16c21dbb2118",
   "metadata": {},
   "outputs": [],
   "source": [
    "final = trans.merge(cust,on = 'cust_id', how = 'left').merge(prod_cat,on = ['prod_cat_code', 'prod_subcat_code'],how = 'left')  #final dataset with all the data,\"join\"\n",
    "#final.head(20)                  \n",
    "#final.shape\n"
   ]
  },
  {
   "cell_type": "markdown",
   "id": "ba85c071-d22f-4b16-8e62-8e423540e7d3",
   "metadata": {
    "tags": []
   },
   "source": [
    "# 2. Check the duplicates if there are any duplicates drop them.\n"
   ]
  },
  {
   "cell_type": "code",
   "execution_count": 6,
   "id": "6ee7392b-a8f3-438b-97c8-c82c2047cbf0",
   "metadata": {},
   "outputs": [
    {
     "name": "stdout",
     "output_type": "stream",
     "text": [
      "total duplicates in final dataset: 13\n"
     ]
    }
   ],
   "source": [
    "print(\"total duplicates in final dataset:\" ,final.duplicated().sum())"
   ]
  },
  {
   "cell_type": "code",
   "execution_count": 7,
   "id": "68c8ae49-f2b8-4dce-869c-52e70e054683",
   "metadata": {},
   "outputs": [
    {
     "name": "stdout",
     "output_type": "stream",
     "text": [
      "(23053, 15)\n",
      "(23040, 15)\n"
     ]
    }
   ],
   "source": [
    "print(final.shape)\n",
    "final.drop_duplicates(keep = 'first', inplace = True) \n",
    "print(final.shape)\n",
    "\n"
   ]
  },
  {
   "cell_type": "markdown",
   "id": "a62fc6cf-aff7-4f7d-b127-a97a2f8eabc6",
   "metadata": {
    "tags": []
   },
   "source": [
    "# 3. Check for the null/missing values.\n"
   ]
  },
  {
   "cell_type": "code",
   "execution_count": 8,
   "id": "7a7e69dc-6547-4d34-bc54-e35d6471b864",
   "metadata": {},
   "outputs": [
    {
     "name": "stdout",
     "output_type": "stream",
     "text": [
      "transaction_id      0\n",
      "cust_id             0\n",
      "tran_date           0\n",
      "prod_subcat_code    0\n",
      "prod_cat_code       0\n",
      "Qty                 0\n",
      "Rate                0\n",
      "Tax                 0\n",
      "total_amt           0\n",
      "Store_type          0\n",
      "DOB                 0\n",
      "Gender              9\n",
      "city_code           8\n",
      "prod_cat            0\n",
      "prod_subcat         0\n",
      "dtype: int64\n"
     ]
    }
   ],
   "source": [
    "final.shape\n",
    "print(final.isnull().sum())        #checking for null values in dataset"
   ]
  },
  {
   "cell_type": "markdown",
   "id": "3aee1e2b-96a7-4b15-a620-2c4e40bbaf61",
   "metadata": {},
   "source": [
    "# 4. Prepare summary report for all the columns.\n"
   ]
  }
 ],
 "metadata": {
  "kernelspec": {
   "display_name": "Python 3 (ipykernel)",
   "language": "python",
   "name": "python3"
  },
  "language_info": {
   "codemirror_mode": {
    "name": "ipython",
    "version": 3
   },
   "file_extension": ".py",
   "mimetype": "text/x-python",
   "name": "python",
   "nbconvert_exporter": "python",
   "pygments_lexer": "ipython3",
   "version": "3.9.13"
  }
 },
 "nbformat": 4,
 "nbformat_minor": 5
}
